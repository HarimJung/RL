{
 "cells": [
  {
   "cell_type": "code",
   "execution_count": 1,
   "metadata": {},
   "outputs": [],
   "source": [
    "import tensorflow as tf\n",
    "import numpy as np\n",
    "import gym\n",
    "import matplotlib.pyplot as plt\n",
    "from gym.envs.registration import register\n",
    "import random as pr"
   ]
  },
  {
   "cell_type": "code",
   "execution_count": 2,
   "metadata": {},
   "outputs": [
    {
     "name": "stdout",
     "output_type": "stream",
     "text": [
      "Success rate: 0.023\n",
      "Final Q-Table Values\n",
      "[[0.         0.         0.         0.        ]\n",
      " [0.         0.         0.         0.        ]\n",
      " [0.         0.         0.         0.        ]\n",
      " [0.         0.         0.         0.        ]\n",
      " [0.         0.         0.         0.        ]\n",
      " [0.         0.         0.         0.        ]\n",
      " [0.         0.         0.         0.        ]\n",
      " [0.         0.         0.         0.        ]\n",
      " [0.         0.         0.         0.        ]\n",
      " [0.         0.         0.         0.        ]\n",
      " [0.99       0.         0.         0.        ]\n",
      " [0.         0.         0.         0.        ]\n",
      " [0.         0.         0.         0.        ]\n",
      " [0.         0.         0.87752102 0.        ]\n",
      " [0.         0.9801     0.         0.        ]\n",
      " [0.         0.         0.         0.        ]]\n"
     ]
    },
    {
     "data": {
      "image/png": "[encoded data removed]",
      "text/plain": [
       "<Figure size 432x288 with 1 Axes>"
      ]
     },
     "metadata": {
      "needs_background": "light"
     },
     "output_type": "display_data"
    }
   ],
   "source": [
    "import gym\n",
    "import numpy as np\n",
    "import matplotlib.pyplot as plt\n",
    "from gym.envs.registration import register\n",
    "\n",
    "id='FrozenLake-v0',\n",
    "entry_00000point='gym.envs.toy_text:FrozenLakeEnv',\n",
    "kwargs={'map_name': '4x4', 'is_slippery': False}\n",
    "\n",
    "env = gym.make('FrozenLake-v0')\n",
    "\n",
    "Q = np.zeros([env.observation_space.n, env.action_space.n])\n",
    "dis = .99\n",
    "num_episodes = 2000\n",
    "\n",
    "rList = []\n",
    "\n",
    "for i in range(num_episodes):\n",
    "    state = env.reset()\n",
    "    rAll = 0\n",
    "    done = False\n",
    "    \n",
    "    while not done:\n",
    "        action = np.argmax(Q[state, :] + np.random.randn(1, env.action_space.n) / (i+1))  # 노이즈 추가\n",
    "        \n",
    "        new_state, reward, done, _ = env.step(action)\n",
    "        \n",
    "        Q[state, action] = reward + dis * np.max(Q[new_state, :])\n",
    "        \n",
    "        rAll += reward\n",
    "        state = new_state\n",
    "        \n",
    "    rList.append(rAll)\n",
    "        \n",
    "\n",
    "print(\"Success rate: \" + str(sum(rList)/num_episodes))\n",
    "print(\"Final Q-Table Values\")\n",
    "print(Q)\n",
    "plt.bar(range(len(rList)), rList, color='red')\n",
    "plt.show()"
   ]
  },
  {
   "cell_type": "markdown",
   "metadata": {},
   "source": [
    "# C-Network, fully connected"
   ]
  },
  {
   "cell_type": "code",
   "execution_count": 3,
   "metadata": {},
   "outputs": [
    {
     "name": "stdout",
     "output_type": "stream",
     "text": [
      "[[1. 0. 0. 0. 0. 0. 0. 0. 0. 0. 0. 0. 0. 0. 0. 0.]]\n",
      "[[0. 0. 0. 0. 0. 0. 0. 0. 0. 0. 1. 0. 0. 0. 0. 0.]]\n"
     ]
    }
   ],
   "source": [
    "import numpy as np\n",
    "print(np.identity(16)[0:1])\n",
    "print(np.eye(16)[10:11])\n",
    "\n",
    "def one_hot(x):\n",
    "    return np.identity(16)[x:x+1]\n",
    "\n",
    "\n",
    "#input and output size of \"Frozen Lake\"\n",
    "env=gym.make(\"FrozenLake-v0\")\n",
    "input_s=env.observation_space.n\n",
    "output_s=env.action_space.n\n",
    "learning_rate=0.1\n",
    "\n",
    "# set the feed-forward part of the network\n",
    "\n",
    "X=tf.placeholder(shape=[1,input_s],dtype=tf.float32)\n",
    "W=tf.Variable(tf.random_uniform([input_s, output_s],0,0.01))\n",
    "\n",
    "# Deep Learning: linear regression \n",
    "Qpred=tf.matmul(X,W)\n",
    "Y=tf.placeholder(shape=[1,output_s],dtype=tf.float32)\n",
    "loss=tf.reduce_sum(tf.square(Y-Qpred))\n",
    "train=tf.train.GradientDescentOptimizer(learning_rate=learning_rate).minimize(loss)\n"
   ]
  },
  {
   "cell_type": "markdown",
   "metadata": {},
   "source": [
    "# Set the Q-learning parameters and network"
   ]
  },
  {
   "cell_type": "code",
   "execution_count": 4,
   "metadata": {},
   "outputs": [],
   "source": [
    "dis=0.99\n",
    "episodes=2000\n",
    "rList=[]"
   ]
  },
  {
   "cell_type": "code",
   "execution_count": 5,
   "metadata": {},
   "outputs": [
    {
     "name": "stdout",
     "output_type": "stream",
     "text": [
      "Percentage of successful episoded:0.468%\n"
     ]
    },
    {
     "data": {
      "image/png": "[encoded data removed]",
      "text/plain": [
       "<Figure size 432x288 with 1 Axes>"
      ]
     },
     "metadata": {
      "needs_background": "light"
     },
     "output_type": "display_data"
    }
   ],
   "source": [
    "with tf.Session() as sess:\n",
    "    sess.run(tf.global_variables_initializer())\n",
    "    for i in range(episodes):\n",
    "        s=env.reset()\n",
    "        e=1/((i/50)+10)\n",
    "        rAll=0\n",
    "        done=False\n",
    "        local_loss=[]\n",
    "        \n",
    "        while not done:\n",
    "            Qs=sess.run(Qpred,feed_dict={X:one_hot(s)})\n",
    "            if np.random.rand(1)<e:\n",
    "                a=env.action_space.sample()\n",
    "            else:\n",
    "                a=np.argmax(Qs)\n",
    "        \n",
    "        # Get the new state and reward finally\n",
    "            s1,reward,done,_=env.step(a)\n",
    "            if done:\n",
    "                Qs[0,a]=reward\n",
    "            else:\n",
    "                Qs1=sess.run(Qpred,feed_dict={X:one_hot(s1)})\n",
    "                Qs[0,a]=reward + dis*np.max(Qs1)\n",
    "         \n",
    "        # train our network usning target Y and Qpred\n",
    "            sess.run(train,feed_dict={X:one_hot(s), Y:Qs})\n",
    "            \n",
    "            rAll+=reward\n",
    "            s=s1\n",
    "        rList.append(rAll)\n",
    "        \n",
    "    print(\"Percentage of successful episoded:\" + str(sum(rList)/episodes) + \"%\")\n",
    "    plt.bar(range(len(rList)),rList,color=\"blue\")\n",
    "    plt.show()"
   ]
  },
  {
   "cell_type": "markdown",
   "metadata": {},
   "source": [
    "# the Q-networking training"
   ]
  },
  {
   "cell_type": "code",
   "execution_count": null,
   "metadata": {},
   "outputs": [],
   "source": []
  }
 ],
 "metadata": {
  "kernelspec": {
   "display_name": "Python 3",
   "language": "python",
   "name": "python3"
  },
  "language_info": {
   "codemirror_mode": {
    "name": "ipython",
    "version": 3
   },
   "file_extension": ".py",
   "mimetype": "text/x-python",
   "name": "python",
   "nbconvert_exporter": "python",
   "pygments_lexer": "ipython3",
   "version": "3.7.3"
  }
 },
 "nbformat": 4,
 "nbformat_minor": 2
}
